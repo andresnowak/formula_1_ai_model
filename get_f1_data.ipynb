{
 "cells": [
  {
   "cell_type": "code",
   "execution_count": 26,
   "metadata": {},
   "outputs": [],
   "source": [
    "import fastf1\n",
    "import pandas as pd\n",
    "import numpy as np\n",
    "\n",
    "df = pd.DataFrame()\n",
    "\n",
    "years = [2010, 2011, 2012, 2013, 2014, 2015, 2016, 2017, 2018, 2019, 2020, 2021]"
   ]
  },
  {
   "cell_type": "code",
   "execution_count": 31,
   "metadata": {},
   "outputs": [
    {
     "name": "stderr",
     "output_type": "stream",
     "text": [
      "core           INFO \tLoading data for Bahrain Grand Prix - Race [v3.0.4]\n",
      "core        WARNING \tCannot load laps, telemetry, weather, and message data because the relevant API is not supported for this session.\n",
      "core           INFO \tFinished loading data for 24 drivers: ['8', '7', '2', '5', '4', '3', '1', '6', '15', '9', '11', '14', '17', '10', '19', '16', '18', '22', '21', '24', '12', '23', '25', '20']\n",
      "core           INFO \tLoading data for Australian Grand Prix - Race [v3.0.4]\n"
     ]
    },
    {
     "name": "stdout",
     "output_type": "stream",
     "text": [
      "Index(['DriverNumber', 'BroadcastName', 'Abbreviation', 'DriverId', 'TeamName',\n",
      "       'TeamColor', 'TeamId', 'FirstName', 'LastName', 'FullName',\n",
      "       'HeadshotUrl', 'CountryCode', 'Position', 'ClassifiedPosition',\n",
      "       'GridPosition', 'Q1', 'Q2', 'Q3', 'Time', 'Status', 'Points'],\n",
      "      dtype='object')\n"
     ]
    },
    {
     "name": "stderr",
     "output_type": "stream",
     "text": [
      "core        WARNING \tCannot load laps, telemetry, weather, and message data because the relevant API is not supported for this session.\n",
      "core           INFO \tFinished loading data for 24 drivers: ['1', '11', '7', '8', '4', '2', '15', '9', '6', '3', '17', '22', '19', '20', '24', '25', '5', '14', '12', '21', '16', '10', '23', '18']\n",
      "core           INFO \tLoading data for Malaysian Grand Prix - Race [v3.0.4]\n"
     ]
    },
    {
     "name": "stdout",
     "output_type": "stream",
     "text": [
      "Index(['DriverNumber', 'BroadcastName', 'Abbreviation', 'DriverId', 'TeamName',\n",
      "       'TeamColor', 'TeamId', 'FirstName', 'LastName', 'FullName',\n",
      "       'HeadshotUrl', 'CountryCode', 'Position', 'ClassifiedPosition',\n",
      "       'GridPosition', 'Q1', 'Q2', 'Q3', 'Time', 'Status', 'Points'],\n",
      "      dtype='object')\n"
     ]
    },
    {
     "name": "stderr",
     "output_type": "stream",
     "text": [
      "core        WARNING \tCannot load laps, telemetry, weather, and message data because the relevant API is not supported for this session.\n",
      "core           INFO \tFinished loading data for 24 drivers: ['5', '6', '4', '11', '14', '2', '7', '1', '17', '10', '16', '9', '8', '25', '20', '21', '18', '19', '12', '15', '3', '23', '24', '22']\n",
      "core           INFO \tLoading data for Chinese Grand Prix - Race [v3.0.4]\n"
     ]
    },
    {
     "name": "stdout",
     "output_type": "stream",
     "text": [
      "Index(['DriverNumber', 'BroadcastName', 'Abbreviation', 'DriverId', 'TeamName',\n",
      "       'TeamColor', 'TeamId', 'FirstName', 'LastName', 'FullName',\n",
      "       'HeadshotUrl', 'CountryCode', 'Position', 'ClassifiedPosition',\n",
      "       'GridPosition', 'Q1', 'Q2', 'Q3', 'Time', 'Status', 'Points'],\n",
      "      dtype='object')\n"
     ]
    },
    {
     "name": "stderr",
     "output_type": "stream",
     "text": [
      "core        WARNING \tCannot load laps, telemetry, weather, and message data because the relevant API is not supported for this session.\n",
      "core           INFO \tFinished loading data for 24 drivers: ['1', '2', '4', '8', '11', '5', '12', '6', '7', '3', '14', '9', '17', '19', '10', '21', '20', '18', '25', '22', '16', '23', '15', '24']\n",
      "core           INFO \tLoading data for Spanish Grand Prix - Race [v3.0.4]\n"
     ]
    },
    {
     "name": "stdout",
     "output_type": "stream",
     "text": [
      "Index(['DriverNumber', 'BroadcastName', 'Abbreviation', 'DriverId', 'TeamName',\n",
      "       'TeamColor', 'TeamId', 'FirstName', 'LastName', 'FullName',\n",
      "       'HeadshotUrl', 'CountryCode', 'Position', 'ClassifiedPosition',\n",
      "       'GridPosition', 'Q1', 'Q2', 'Q3', 'Time', 'Status', 'Points'],\n",
      "      dtype='object')\n"
     ]
    },
    {
     "name": "stderr",
     "output_type": "stream",
     "text": [
      "core        WARNING \tCannot load laps, telemetry, weather, and message data because the relevant API is not supported for this session.\n",
      "core           INFO \tFinished loading data for 24 drivers: ['6', '8', '5', '3', '1', '7', '14', '11', '9', '17', '12', '23', '4', '2', '15', '10', '18', '24', '25', '16', '20', '22', '21', '19']\n",
      "core           INFO \tLoading data for Monaco Grand Prix - Race [v3.0.4]\n"
     ]
    },
    {
     "name": "stdout",
     "output_type": "stream",
     "text": [
      "Index(['DriverNumber', 'BroadcastName', 'Abbreviation', 'DriverId', 'TeamName',\n",
      "       'TeamColor', 'TeamId', 'FirstName', 'LastName', 'FullName',\n",
      "       'HeadshotUrl', 'CountryCode', 'Position', 'ClassifiedPosition',\n",
      "       'GridPosition', 'Q1', 'Q2', 'Q3', 'Time', 'Status', 'Points'],\n",
      "      dtype='object')\n"
     ]
    },
    {
     "name": "stderr",
     "output_type": "stream",
     "text": [
      "core        WARNING \tCannot load laps, telemetry, weather, and message data because the relevant API is not supported for this session.\n",
      "core           INFO \tFinished loading data for 24 drivers: ['6', '5', '11', '7', '2', '8', '4', '14', '15', '16', '17', '3', '12', '20', '18', '19', '21', '9', '23', '25', '24', '22', '1', '10']\n",
      "core           INFO \tLoading data for Turkish Grand Prix - Race [v3.0.4]\n"
     ]
    },
    {
     "name": "stdout",
     "output_type": "stream",
     "text": [
      "Index(['DriverNumber', 'BroadcastName', 'Abbreviation', 'DriverId', 'TeamName',\n",
      "       'TeamColor', 'TeamId', 'FirstName', 'LastName', 'FullName',\n",
      "       'HeadshotUrl', 'CountryCode', 'Position', 'ClassifiedPosition',\n",
      "       'GridPosition', 'Q1', 'Q2', 'Q3', 'Time', 'Status', 'Points'],\n",
      "      dtype='object')\n"
     ]
    },
    {
     "name": "stderr",
     "output_type": "stream",
     "text": [
      "core        WARNING \tCannot load laps, telemetry, weather, and message data because the relevant API is not supported for this session.\n",
      "core           INFO \tFinished loading data for 24 drivers: ['2', '1', '6', '3', '4', '11', '7', '8', '14', '23', '22', '17', '15', '9', '12', '16', '10', '24', '25', '20', '21', '5', '19', '18']\n",
      "core           INFO \tLoading data for Canadian Grand Prix - Race [v3.0.4]\n"
     ]
    },
    {
     "name": "stdout",
     "output_type": "stream",
     "text": [
      "Index(['DriverNumber', 'BroadcastName', 'Abbreviation', 'DriverId', 'TeamName',\n",
      "       'TeamColor', 'TeamId', 'FirstName', 'LastName', 'FullName',\n",
      "       'HeadshotUrl', 'CountryCode', 'Position', 'ClassifiedPosition',\n",
      "       'GridPosition', 'Q1', 'Q2', 'Q3', 'Time', 'Status', 'Points'],\n",
      "      dtype='object')\n"
     ]
    },
    {
     "name": "stderr",
     "output_type": "stream",
     "text": [
      "core        WARNING \tCannot load laps, telemetry, weather, and message data because the relevant API is not supported for this session.\n",
      "core           INFO \tFinished loading data for 24 drivers: ['2', '1', '8', '5', '6', '4', '11', '16', '15', '14', '3', '17', '10', '9', '7', '19', '12', '20', '25', '24', '18', '22', '21', '23']\n",
      "core           INFO \tLoading data for European Grand Prix - Race [v3.0.4]\n"
     ]
    },
    {
     "name": "stdout",
     "output_type": "stream",
     "text": [
      "Index(['DriverNumber', 'BroadcastName', 'Abbreviation', 'DriverId', 'TeamName',\n",
      "       'TeamColor', 'TeamId', 'FirstName', 'LastName', 'FullName',\n",
      "       'HeadshotUrl', 'CountryCode', 'Position', 'ClassifiedPosition',\n",
      "       'GridPosition', 'Q1', 'Q2', 'Q3', 'Time', 'Status', 'Points'],\n",
      "      dtype='object')\n"
     ]
    },
    {
     "name": "stderr",
     "output_type": "stream",
     "text": [
      "core        WARNING \tCannot load laps, telemetry, weather, and message data because the relevant API is not supported for this session.\n",
      "core           INFO \tFinished loading data for 24 drivers: ['5', '2', '1', '9', '11', '14', '23', '8', '16', '4', '7', '22', '17', '12', '3', '15', '25', '20', '24', '21', '18', '10', '19', '6']\n",
      "core           INFO \tLoading data for British Grand Prix - Race [v3.0.4]\n"
     ]
    },
    {
     "name": "stdout",
     "output_type": "stream",
     "text": [
      "Index(['DriverNumber', 'BroadcastName', 'Abbreviation', 'DriverId', 'TeamName',\n",
      "       'TeamColor', 'TeamId', 'FirstName', 'LastName', 'FullName',\n",
      "       'HeadshotUrl', 'CountryCode', 'Position', 'ClassifiedPosition',\n",
      "       'GridPosition', 'Q1', 'Q2', 'Q3', 'Time', 'Status', 'Points'],\n",
      "      dtype='object')\n"
     ]
    },
    {
     "name": "stderr",
     "output_type": "stream",
     "text": [
      "core        WARNING \tCannot load laps, telemetry, weather, and message data because the relevant API is not supported for this session.\n",
      "core           INFO \tFinished loading data for 24 drivers: ['6', '2', '4', '1', '9', '23', '5', '14', '3', '10', '15', '16', '12', '8', '7', '18', '19', '24', '20', '21', '17', '22', '11', '25']\n",
      "core           INFO \tLoading data for German Grand Prix - Race [v3.0.4]\n"
     ]
    },
    {
     "name": "stdout",
     "output_type": "stream",
     "text": [
      "Index(['DriverNumber', 'BroadcastName', 'Abbreviation', 'DriverId', 'TeamName',\n",
      "       'TeamColor', 'TeamId', 'FirstName', 'LastName', 'FullName',\n",
      "       'HeadshotUrl', 'CountryCode', 'Position', 'ClassifiedPosition',\n",
      "       'GridPosition', 'Q1', 'Q2', 'Q3', 'Time', 'Status', 'Points'],\n",
      "      dtype='object')\n"
     ]
    },
    {
     "name": "stderr",
     "output_type": "stream",
     "text": [
      "core        WARNING \tCannot load laps, telemetry, weather, and message data because the relevant API is not supported for this session.\n",
      "core           INFO \tFinished loading data for 24 drivers: ['8', '7', '5', '2', '1', '6', '11', '4', '3', '12', '23', '9', '10', '22', '17', '15', '14', '24', '21', '19', '25', '20', '18', '16']\n",
      "core           INFO \tLoading data for Hungarian Grand Prix - Race [v3.0.4]\n"
     ]
    },
    {
     "name": "stdout",
     "output_type": "stream",
     "text": [
      "Index(['DriverNumber', 'BroadcastName', 'Abbreviation', 'DriverId', 'TeamName',\n",
      "       'TeamColor', 'TeamId', 'FirstName', 'LastName', 'FullName',\n",
      "       'HeadshotUrl', 'CountryCode', 'Position', 'ClassifiedPosition',\n",
      "       'GridPosition', 'Q1', 'Q2', 'Q3', 'Time', 'Status', 'Points'],\n",
      "      dtype='object')\n"
     ]
    },
    {
     "name": "stderr",
     "output_type": "stream",
     "text": [
      "core        WARNING \tCannot load laps, telemetry, weather, and message data because the relevant API is not supported for this session.\n",
      "core           INFO \tFinished loading data for 24 drivers: ['6', '8', '5', '7', '12', '10', '22', '1', '23', '9', '3', '16', '15', '19', '18', '24', '21', '25', '20', '2', '11', '4', '14', '17']\n",
      "core           INFO \tLoading data for Belgian Grand Prix - Race [v3.0.4]\n"
     ]
    },
    {
     "name": "stdout",
     "output_type": "stream",
     "text": [
      "Index(['DriverNumber', 'BroadcastName', 'Abbreviation', 'DriverId', 'TeamName',\n",
      "       'TeamColor', 'TeamId', 'FirstName', 'LastName', 'FullName',\n",
      "       'HeadshotUrl', 'CountryCode', 'Position', 'ClassifiedPosition',\n",
      "       'GridPosition', 'Q1', 'Q2', 'Q3', 'Time', 'Status', 'Points'],\n",
      "      dtype='object')\n"
     ]
    },
    {
     "name": "stderr",
     "output_type": "stream",
     "text": [
      "core        WARNING \tCannot load laps, telemetry, weather, and message data because the relevant API is not supported for this session.\n",
      "core           INFO \tFinished loading data for 24 drivers: ['2', '6', '11', '7', '14', '4', '3', '23', '12', '15', '22', '16', '17', '10', '5', '19', '25', '24', '18', '20', '8', '1', '21', '9']\n",
      "core           INFO \tLoading data for Italian Grand Prix - Race [v3.0.4]\n"
     ]
    },
    {
     "name": "stdout",
     "output_type": "stream",
     "text": [
      "Index(['DriverNumber', 'BroadcastName', 'Abbreviation', 'DriverId', 'TeamName',\n",
      "       'TeamColor', 'TeamId', 'FirstName', 'LastName', 'FullName',\n",
      "       'HeadshotUrl', 'CountryCode', 'Position', 'ClassifiedPosition',\n",
      "       'GridPosition', 'Q1', 'Q2', 'Q3', 'Time', 'Status', 'Points'],\n",
      "      dtype='object')\n"
     ]
    },
    {
     "name": "stderr",
     "output_type": "stream",
     "text": [
      "core        WARNING \tCannot load laps, telemetry, weather, and message data because the relevant API is not supported for this session.\n",
      "core           INFO \tFinished loading data for 24 drivers: ['8', '1', '7', '5', '4', '6', '10', '11', '3', '9', '16', '15', '12', '22', '17', '14', '24', '19', '20', '25', '18', '21', '2', '23']\n",
      "core           INFO \tLoading data for Singapore Grand Prix - Race [v3.0.4]\n"
     ]
    },
    {
     "name": "stdout",
     "output_type": "stream",
     "text": [
      "Index(['DriverNumber', 'BroadcastName', 'Abbreviation', 'DriverId', 'TeamName',\n",
      "       'TeamColor', 'TeamId', 'FirstName', 'LastName', 'FullName',\n",
      "       'HeadshotUrl', 'CountryCode', 'Position', 'ClassifiedPosition',\n",
      "       'GridPosition', 'Q1', 'Q2', 'Q3', 'Time', 'Status', 'Points'],\n",
      "      dtype='object')\n"
     ]
    },
    {
     "name": "stderr",
     "output_type": "stream",
     "text": [
      "core        WARNING \tCannot load laps, telemetry, weather, and message data because the relevant API is not supported for this session.\n",
      "core           INFO \tFinished loading data for 24 drivers: ['8', '5', '6', '1', '4', '9', '11', '7', '14', '10', '12', '17', '3', '16', '25', '19', '24', '22', '2', '20', '23', '21', '18', '15']\n",
      "core           INFO \tLoading data for Japanese Grand Prix - Race [v3.0.4]\n",
      "core           INFO \tLoading data for Korean Grand Prix - Race [v3.0.4]\n"
     ]
    },
    {
     "name": "stdout",
     "output_type": "stream",
     "text": [
      "Index(['DriverNumber', 'BroadcastName', 'Abbreviation', 'DriverId', 'TeamName',\n",
      "       'TeamColor', 'TeamId', 'FirstName', 'LastName', 'FullName',\n",
      "       'HeadshotUrl', 'CountryCode', 'Position', 'ClassifiedPosition',\n",
      "       'GridPosition', 'Q1', 'Q2', 'Q3', 'Time', 'Status', 'Points'],\n",
      "      dtype='object')\n"
     ]
    },
    {
     "name": "stderr",
     "output_type": "stream",
     "text": [
      "core        WARNING \tCannot load laps, telemetry, weather, and message data because the relevant API is not supported for this session.\n",
      "core           INFO \tFinished loading data for 24 drivers: ['8', '2', '7', '3', '11', '15', '9', '23', '22', '10', '17', '1', '19', '21', '20', '14', '5', '12', '24', '16', '25', '18', '6', '4']\n",
      "core           INFO \tLoading data for Brazilian Grand Prix - Race [v3.0.4]\n"
     ]
    },
    {
     "name": "stdout",
     "output_type": "stream",
     "text": [
      "Index(['DriverNumber', 'BroadcastName', 'Abbreviation', 'DriverId', 'TeamName',\n",
      "       'TeamColor', 'TeamId', 'FirstName', 'LastName', 'FullName',\n",
      "       'HeadshotUrl', 'CountryCode', 'Position', 'ClassifiedPosition',\n",
      "       'GridPosition', 'Q1', 'Q2', 'Q3', 'Time', 'Status', 'Points'],\n",
      "      dtype='object')\n"
     ]
    },
    {
     "name": "stderr",
     "output_type": "stream",
     "text": [
      "core        WARNING \tCannot load laps, telemetry, weather, and message data because the relevant API is not supported for this session.\n",
      "core           INFO \tFinished loading data for 24 drivers: ['5', '6', '8', '2', '1', '4', '3', '10', '11', '23', '17', '14', '16', '9', '7', '12', '22', '19', '18', '24', '21', '20', '25', '15']\n",
      "core           INFO \tLoading data for Abu Dhabi Grand Prix - Race [v3.0.4]\n"
     ]
    },
    {
     "name": "stdout",
     "output_type": "stream",
     "text": [
      "Index(['DriverNumber', 'BroadcastName', 'Abbreviation', 'DriverId', 'TeamName',\n",
      "       'TeamColor', 'TeamId', 'FirstName', 'LastName', 'FullName',\n",
      "       'HeadshotUrl', 'CountryCode', 'Position', 'ClassifiedPosition',\n",
      "       'GridPosition', 'Q1', 'Q2', 'Q3', 'Time', 'Status', 'Points'],\n",
      "      dtype='object')\n"
     ]
    },
    {
     "name": "stderr",
     "output_type": "stream",
     "text": [
      "core        WARNING \tCannot load laps, telemetry, weather, and message data because the relevant API is not supported for this session.\n",
      "core           INFO \tFinished loading data for 24 drivers: ['5', '2', '1', '4', '11', '12', '8', '6', '17', '7', '22', '9', '14', '23', '16', '10', '19', '25', '21', '20', '18', '24', '3', '15']\n"
     ]
    },
    {
     "name": "stdout",
     "output_type": "stream",
     "text": [
      "Index(['DriverNumber', 'BroadcastName', 'Abbreviation', 'DriverId', 'TeamName',\n",
      "       'TeamColor', 'TeamId', 'FirstName', 'LastName', 'FullName',\n",
      "       'HeadshotUrl', 'CountryCode', 'Position', 'ClassifiedPosition',\n",
      "       'GridPosition', 'Q1', 'Q2', 'Q3', 'Time', 'Status', 'Points'],\n",
      "      dtype='object')\n"
     ]
    },
    {
     "name": "stderr",
     "output_type": "stream",
     "text": [
      "core           INFO \tLoading data for Australian Grand Prix - Race [v3.0.4]\n",
      "core        WARNING \tCannot load laps, telemetry, weather, and message data because the relevant API is not supported for this session.\n",
      "core           INFO \tFinished loading data for 24 drivers: ['1', '3', '10', '5', '2', '4', '6', '18', '14', '15', '19', '9', '21', '25', '24', '11', '8', '20', '7', '12', '16', '17', '23', '22']\n",
      "core           INFO \tLoading data for Malaysian Grand Prix - Race [v3.0.4]\n"
     ]
    },
    {
     "name": "stdout",
     "output_type": "stream",
     "text": [
      "Index(['DriverNumber', 'BroadcastName', 'Abbreviation', 'DriverId', 'TeamName',\n",
      "       'TeamColor', 'TeamId', 'FirstName', 'LastName', 'FullName',\n",
      "       'HeadshotUrl', 'CountryCode', 'Position', 'ClassifiedPosition',\n",
      "       'GridPosition', 'Q1', 'Q2', 'Q3', 'Time', 'Status', 'Points'],\n",
      "      dtype='object')\n"
     ]
    },
    {
     "name": "stderr",
     "output_type": "stream",
     "text": [
      "core        WARNING \tCannot load laps, telemetry, weather, and message data because the relevant API is not supported for this session.\n",
      "core           INFO \tFinished loading data for 24 drivers: ['1', '4', '9', '2', '6', '5', '16', '3', '7', '15', '14', '8', '18', '19', '20', '24', '10', '23', '25', '21', '17', '11', '22', '12']\n",
      "core           INFO \tLoading data for Chinese Grand Prix - Race [v3.0.4]\n"
     ]
    },
    {
     "name": "stdout",
     "output_type": "stream",
     "text": [
      "Index(['DriverNumber', 'BroadcastName', 'Abbreviation', 'DriverId', 'TeamName',\n",
      "       'TeamColor', 'TeamId', 'FirstName', 'LastName', 'FullName',\n",
      "       'HeadshotUrl', 'CountryCode', 'Position', 'ClassifiedPosition',\n",
      "       'GridPosition', 'Q1', 'Q2', 'Q3', 'Time', 'Status', 'Points'],\n",
      "      dtype='object')\n"
     ]
    },
    {
     "name": "stderr",
     "output_type": "stream",
     "text": [
      "core        WARNING \tCannot load laps, telemetry, weather, and message data because the relevant API is not supported for this session.\n",
      "core           INFO \tFinished loading data for 24 drivers: ['3', '1', '2', '4', '8', '6', '5', '7', '10', '16', '15', '9', '11', '18', '14', '20', '17', '12', '21', '25', '24', '23', '22', '19']\n",
      "core           INFO \tLoading data for Turkish Grand Prix - Race [v3.0.4]\n"
     ]
    },
    {
     "name": "stdout",
     "output_type": "stream",
     "text": [
      "Index(['DriverNumber', 'BroadcastName', 'Abbreviation', 'DriverId', 'TeamName',\n",
      "       'TeamColor', 'TeamId', 'FirstName', 'LastName', 'FullName',\n",
      "       'HeadshotUrl', 'CountryCode', 'Position', 'ClassifiedPosition',\n",
      "       'GridPosition', 'Q1', 'Q2', 'Q3', 'Time', 'Status', 'Points'],\n",
      "      dtype='object')\n"
     ]
    },
    {
     "name": "stderr",
     "output_type": "stream",
     "text": [
      "core        WARNING \tCannot load laps, telemetry, weather, and message data because the relevant API is not supported for this session.\n",
      "core           INFO \tFinished loading data for 24 drivers: ['1', '2', '5', '3', '8', '4', '9', '10', '18', '16', '6', '7', '14', '17', '11', '19', '12', '21', '20', '25', '22', '23', '15', '24']\n",
      "core           INFO \tLoading data for Spanish Grand Prix - Race [v3.0.4]\n"
     ]
    },
    {
     "name": "stdout",
     "output_type": "stream",
     "text": [
      "Index(['DriverNumber', 'BroadcastName', 'Abbreviation', 'DriverId', 'TeamName',\n",
      "       'TeamColor', 'TeamId', 'FirstName', 'LastName', 'FullName',\n",
      "       'HeadshotUrl', 'CountryCode', 'Position', 'ClassifiedPosition',\n",
      "       'GridPosition', 'Q1', 'Q2', 'Q3', 'Time', 'Status', 'Points'],\n",
      "      dtype='object')\n"
     ]
    },
    {
     "name": "stderr",
     "output_type": "stream",
     "text": [
      "core        WARNING \tCannot load laps, telemetry, weather, and message data because the relevant API is not supported for this session.\n",
      "core           INFO \tFinished loading data for 24 drivers: ['1', '3', '4', '2', '5', '7', '8', '9', '17', '16', '10', '15', '14', '18', '12', '19', '11', '21', '24', '25', '22', '6', '20', '23']\n",
      "core           INFO \tLoading data for Monaco Grand Prix - Race [v3.0.4]\n"
     ]
    },
    {
     "name": "stdout",
     "output_type": "stream",
     "text": [
      "Index(['DriverNumber', 'BroadcastName', 'Abbreviation', 'DriverId', 'TeamName',\n",
      "       'TeamColor', 'TeamId', 'FirstName', 'LastName', 'FullName',\n",
      "       'HeadshotUrl', 'CountryCode', 'Position', 'ClassifiedPosition',\n",
      "       'GridPosition', 'Q1', 'Q2', 'Q3', 'Time', 'Status', 'Points'],\n",
      "      dtype='object')\n"
     ]
    },
    {
     "name": "stderr",
     "output_type": "stream",
     "text": [
      "core        WARNING \tCannot load laps, telemetry, weather, and message data because the relevant API is not supported for this session.\n",
      "core           INFO \tFinished loading data for 24 drivers: ['1', '5', '4', '2', '16', '3', '14', '9', '11', '18', '8', '15', '21', '20', '25', '23', '22', '12', '10', '19', '6', '7', '24', '17']\n",
      "core           INFO \tLoading data for Canadian Grand Prix - Race [v3.0.4]\n"
     ]
    },
    {
     "name": "stdout",
     "output_type": "stream",
     "text": [
      "Index(['DriverNumber', 'BroadcastName', 'Abbreviation', 'DriverId', 'TeamName',\n",
      "       'TeamColor', 'TeamId', 'FirstName', 'LastName', 'FullName',\n",
      "       'HeadshotUrl', 'CountryCode', 'Position', 'ClassifiedPosition',\n",
      "       'GridPosition', 'Q1', 'Q2', 'Q3', 'Time', 'Status', 'Points'],\n",
      "      dtype='object')\n"
     ]
    },
    {
     "name": "stderr",
     "output_type": "stream",
     "text": [
      "core        WARNING \tCannot load laps, telemetry, weather, and message data because the relevant API is not supported for this session.\n",
      "core           INFO \tFinished loading data for 24 drivers: ['4', '1', '2', '7', '10', '6', '16', '19', '11', '18', '8', '17', '23', '22', '25', '24', '21', '15', '12', '9', '14', '5', '20', '3']\n",
      "core           INFO \tLoading data for European Grand Prix - Race [v3.0.4]\n"
     ]
    },
    {
     "name": "stdout",
     "output_type": "stream",
     "text": [
      "Index(['DriverNumber', 'BroadcastName', 'Abbreviation', 'DriverId', 'TeamName',\n",
      "       'TeamColor', 'TeamId', 'FirstName', 'LastName', 'FullName',\n",
      "       'HeadshotUrl', 'CountryCode', 'Position', 'ClassifiedPosition',\n",
      "       'GridPosition', 'Q1', 'Q2', 'Q3', 'Time', 'Status', 'Points'],\n",
      "      dtype='object')\n"
     ]
    },
    {
     "name": "stderr",
     "output_type": "stream",
     "text": [
      "core        WARNING \tCannot load laps, telemetry, weather, and message data because the relevant API is not supported for this session.\n",
      "core           INFO \tFinished loading data for 24 drivers: ['1', '5', '2', '3', '6', '4', '8', '19', '14', '9', '17', '11', '18', '15', '10', '16', '7', '12', '20', '21', '24', '25', '23', '22']\n",
      "core           INFO \tLoading data for British Grand Prix - Race [v3.0.4]\n"
     ]
    },
    {
     "name": "stdout",
     "output_type": "stream",
     "text": [
      "Index(['DriverNumber', 'BroadcastName', 'Abbreviation', 'DriverId', 'TeamName',\n",
      "       'TeamColor', 'TeamId', 'FirstName', 'LastName', 'FullName',\n",
      "       'HeadshotUrl', 'CountryCode', 'Position', 'ClassifiedPosition',\n",
      "       'GridPosition', 'Q1', 'Q2', 'Q3', 'Time', 'Status', 'Points'],\n",
      "      dtype='object')\n"
     ]
    },
    {
     "name": "stderr",
     "output_type": "stream",
     "text": [
      "core        WARNING \tCannot load laps, telemetry, weather, and message data because the relevant API is not supported for this session.\n",
      "core           INFO \tFinished loading data for 24 drivers: ['5', '1', '2', '3', '6', '8', '17', '9', '7', '19', '14', '10', '11', '12', '15', '24', '25', '23', '22', '4', '18', '16', '21', '20']\n",
      "core           INFO \tLoading data for German Grand Prix - Race [v3.0.4]\n"
     ]
    },
    {
     "name": "stdout",
     "output_type": "stream",
     "text": [
      "Index(['DriverNumber', 'BroadcastName', 'Abbreviation', 'DriverId', 'TeamName',\n",
      "       'TeamColor', 'TeamId', 'FirstName', 'LastName', 'FullName',\n",
      "       'HeadshotUrl', 'CountryCode', 'Position', 'ClassifiedPosition',\n",
      "       'GridPosition', 'Q1', 'Q2', 'Q3', 'Time', 'Status', 'Points'],\n",
      "      dtype='object')\n"
     ]
    },
    {
     "name": "stderr",
     "output_type": "stream",
     "text": [
      "core        WARNING \tCannot load laps, telemetry, weather, and message data because the relevant API is not supported for this session.\n",
      "core           INFO \tFinished loading data for 24 drivers: ['3', '5', '2', '1', '6', '14', '8', '7', '16', '10', '17', '19', '15', '12', '18', '20', '24', '25', '22', '21', '23', '4', '11', '9']\n",
      "core           INFO \tLoading data for Hungarian Grand Prix - Race [v3.0.4]\n"
     ]
    },
    {
     "name": "stdout",
     "output_type": "stream",
     "text": [
      "Index(['DriverNumber', 'BroadcastName', 'Abbreviation', 'DriverId', 'TeamName',\n",
      "       'TeamColor', 'TeamId', 'FirstName', 'LastName', 'FullName',\n",
      "       'HeadshotUrl', 'CountryCode', 'Position', 'ClassifiedPosition',\n",
      "       'GridPosition', 'Q1', 'Q2', 'Q3', 'Time', 'Status', 'Points'],\n",
      "      dtype='object')\n"
     ]
    },
    {
     "name": "stderr",
     "output_type": "stream",
     "text": [
      "core        WARNING \tCannot load laps, telemetry, weather, and message data because the relevant API is not supported for this session.\n",
      "core           INFO \tFinished loading data for 24 drivers: ['4', '1', '5', '3', '2', '6', '15', '18', '8', '19', '16', '10', '11', '14', '17', '12', '24', '22', '25', '23', '20', '7', '9', '21']\n",
      "core           INFO \tLoading data for Belgian Grand Prix - Race [v3.0.4]\n"
     ]
    },
    {
     "name": "stdout",
     "output_type": "stream",
     "text": [
      "Index(['DriverNumber', 'BroadcastName', 'Abbreviation', 'DriverId', 'TeamName',\n",
      "       'TeamColor', 'TeamId', 'FirstName', 'LastName', 'FullName',\n",
      "       'HeadshotUrl', 'CountryCode', 'Position', 'ClassifiedPosition',\n",
      "       'GridPosition', 'Q1', 'Q2', 'Q3', 'Time', 'Status', 'Points'],\n",
      "      dtype='object')\n"
     ]
    },
    {
     "name": "stderr",
     "output_type": "stream",
     "text": [
      "core        WARNING \tCannot load laps, telemetry, weather, and message data because the relevant API is not supported for this session.\n",
      "core           INFO \tFinished loading data for 24 drivers: ['1', '2', '4', '5', '7', '8', '14', '6', '10', '12', '15', '16', '9', '21', '20', '11', '25', '24', '23', '17', '22', '3', '18', '19']\n",
      "core           INFO \tLoading data for Italian Grand Prix - Race [v3.0.4]\n"
     ]
    },
    {
     "name": "stdout",
     "output_type": "stream",
     "text": [
      "Index(['DriverNumber', 'BroadcastName', 'Abbreviation', 'DriverId', 'TeamName',\n",
      "       'TeamColor', 'TeamId', 'FirstName', 'LastName', 'FullName',\n",
      "       'HeadshotUrl', 'CountryCode', 'Position', 'ClassifiedPosition',\n",
      "       'GridPosition', 'Q1', 'Q2', 'Q3', 'Time', 'Status', 'Points'],\n",
      "      dtype='object')\n"
     ]
    },
    {
     "name": "stderr",
     "output_type": "stream",
     "text": [
      "core        WARNING \tCannot load laps, telemetry, weather, and message data because the relevant API is not supported for this session.\n",
      "core           INFO \tFinished loading data for 24 drivers: ['1', '4', '5', '3', '7', '6', '19', '15', '9', '18', '12', '11', '20', '21', '24', '22', '17', '16', '14', '2', '25', '10', '8', '23']\n",
      "core           INFO \tLoading data for Singapore Grand Prix - Race [v3.0.4]\n"
     ]
    },
    {
     "name": "stdout",
     "output_type": "stream",
     "text": [
      "Index(['DriverNumber', 'BroadcastName', 'Abbreviation', 'DriverId', 'TeamName',\n",
      "       'TeamColor', 'TeamId', 'FirstName', 'LastName', 'FullName',\n",
      "       'HeadshotUrl', 'CountryCode', 'Position', 'ClassifiedPosition',\n",
      "       'GridPosition', 'Q1', 'Q2', 'Q3', 'Time', 'Status', 'Points'],\n",
      "      dtype='object')\n"
     ]
    },
    {
     "name": "stderr",
     "output_type": "stream",
     "text": [
      "core        WARNING \tCannot load laps, telemetry, weather, and message data because the relevant API is not supported for this session.\n",
      "core           INFO \tFinished loading data for 24 drivers: ['1', '4', '2', '5', '3', '15', '8', '14', '6', '17', '12', '18', '11', '16', '9', '20', '10', '25', '22', '23', '19', '21', '7', '24']\n",
      "core           INFO \tLoading data for Japanese Grand Prix - Race [v3.0.4]\n"
     ]
    },
    {
     "name": "stdout",
     "output_type": "stream",
     "text": [
      "Index(['DriverNumber', 'BroadcastName', 'Abbreviation', 'DriverId', 'TeamName',\n",
      "       'TeamColor', 'TeamId', 'FirstName', 'LastName', 'FullName',\n",
      "       'HeadshotUrl', 'CountryCode', 'Position', 'ClassifiedPosition',\n",
      "       'GridPosition', 'Q1', 'Q2', 'Q3', 'Time', 'Status', 'Points'],\n",
      "      dtype='object')\n"
     ]
    },
    {
     "name": "stderr",
     "output_type": "stream",
     "text": [
      "core        WARNING \tCannot load laps, telemetry, weather, and message data because the relevant API is not supported for this session.\n",
      "core           INFO \tFinished loading data for 24 drivers: ['4', '5', '1', '2', '3', '7', '6', '17', '10', '8', '14', '15', '16', '12', '19', '9', '11', '20', '21', '24', '25', '22', '23', '18']\n",
      "core           INFO \tLoading data for Korean Grand Prix - Race [v3.0.4]\n"
     ]
    },
    {
     "name": "stdout",
     "output_type": "stream",
     "text": [
      "Index(['DriverNumber', 'BroadcastName', 'Abbreviation', 'DriverId', 'TeamName',\n",
      "       'TeamColor', 'TeamId', 'FirstName', 'LastName', 'FullName',\n",
      "       'HeadshotUrl', 'CountryCode', 'Position', 'ClassifiedPosition',\n",
      "       'GridPosition', 'Q1', 'Q2', 'Q3', 'Time', 'Status', 'Points'],\n",
      "      dtype='object')\n"
     ]
    },
    {
     "name": "stderr",
     "output_type": "stream",
     "text": [
      "core        WARNING \tCannot load laps, telemetry, weather, and message data because the relevant API is not supported for this session.\n",
      "core           INFO \tFinished loading data for 24 drivers: ['1', '3', '2', '4', '5', '6', '19', '8', '18', '15', '14', '11', '9', '20', '16', '17', '21', '24', '22', '25', '23', '12', '10', '7']\n",
      "core           INFO \tLoading data for Indian Grand Prix - Race [v3.0.4]\n"
     ]
    },
    {
     "name": "stdout",
     "output_type": "stream",
     "text": [
      "Index(['DriverNumber', 'BroadcastName', 'Abbreviation', 'DriverId', 'TeamName',\n",
      "       'TeamColor', 'TeamId', 'FirstName', 'LastName', 'FullName',\n",
      "       'HeadshotUrl', 'CountryCode', 'Position', 'ClassifiedPosition',\n",
      "       'GridPosition', 'Q1', 'Q2', 'Q3', 'Time', 'Status', 'Points'],\n",
      "      dtype='object')\n"
     ]
    },
    {
     "name": "stderr",
     "output_type": "stream",
     "text": [
      "core        WARNING \tCannot load laps, telemetry, weather, and message data because the relevant API is not supported for this session.\n",
      "core           INFO \tFinished loading data for 24 drivers: ['1', '4', '5', '2', '7', '8', '3', '19', '14', '17', '10', '9', '15', '20', '11', '25', '22', '23', '21', '6', '18', '12', '24', '16']\n",
      "core           INFO \tLoading data for Abu Dhabi Grand Prix - Race [v3.0.4]\n"
     ]
    },
    {
     "name": "stdout",
     "output_type": "stream",
     "text": [
      "Index(['DriverNumber', 'BroadcastName', 'Abbreviation', 'DriverId', 'TeamName',\n",
      "       'TeamColor', 'TeamId', 'FirstName', 'LastName', 'FullName',\n",
      "       'HeadshotUrl', 'CountryCode', 'Position', 'ClassifiedPosition',\n",
      "       'GridPosition', 'Q1', 'Q2', 'Q3', 'Time', 'Status', 'Points'],\n",
      "      dtype='object')\n"
     ]
    }
   ],
   "source": [
    "for year in years:\n",
    "    for i in range(30):\n",
    "        session = \"\"\n",
    "        try:\n",
    "            session = fastf1.get_session(year, i, 'Race')\n",
    "            session.load(telemetry=False, laps=False, weather=False)\n",
    "        except:\n",
    "            continue\n",
    "        \n",
    "        df_session = session.results\n",
    "        print(df_session.columns)\n",
    "        df_session['GP_name'] = session.event.name\n",
    "        "
   ]
  },
  {
   "cell_type": "code",
   "execution_count": null,
   "metadata": {},
   "outputs": [],
   "source": []
  }
 ],
 "metadata": {
  "kernelspec": {
   "display_name": "f1_api",
   "language": "python",
   "name": "python3"
  },
  "language_info": {
   "codemirror_mode": {
    "name": "ipython",
    "version": 3
   },
   "file_extension": ".py",
   "mimetype": "text/x-python",
   "name": "python",
   "nbconvert_exporter": "python",
   "pygments_lexer": "ipython3",
   "version": "3.10.11"
  },
  "orig_nbformat": 4
 },
 "nbformat": 4,
 "nbformat_minor": 2
}
